{
 "cells": [
  {
   "cell_type": "code",
   "execution_count": 1,
   "metadata": {
    "collapsed": false
   },
   "outputs": [],
   "source": [
    "import pandas as pd\n",
    "from numpy import ceil\n",
    "from tqdm import tqdm\n",
    "\n",
    "file = 'E:/playrix.csv'\n",
    "n_rows = 147893968"
   ]
  },
  {
   "cell_type": "markdown",
   "metadata": {},
   "source": [
    "### В этом ноутбуке было сделано следующее:\n",
    "* создание справочника уникальных uid для того чтобы их проиндексировать\n",
    "* разбиение основного файла на части, замена uid на индекс user_id\n",
    "* деление event_time на 1000\n",
    "* соединение в один файл"
   ]
  },
  {
   "cell_type": "code",
   "execution_count": 2,
   "metadata": {
    "collapsed": false
   },
   "outputs": [],
   "source": [
    "def split_for_ranges(number, k):\n",
    "    rng = int(ceil(number // k) + 1)\n",
    "    return [k, rng]"
   ]
  },
  {
   "cell_type": "code",
   "execution_count": 3,
   "metadata": {
    "collapsed": false
   },
   "outputs": [
    {
     "data": {
      "text/plain": [
       "[10, 14789397]"
      ]
     },
     "execution_count": 3,
     "metadata": {},
     "output_type": "execute_result"
    }
   ],
   "source": [
    "for_loop = split_for_ranges(n_rows, 10)\n",
    "for_loop"
   ]
  },
  {
   "cell_type": "code",
   "execution_count": null,
   "metadata": {
    "collapsed": false
   },
   "outputs": [],
   "source": [
    "# таблица для уникальных uid\n",
    "unique_uid = pd.read_csv(file, sep = ';', compression = 'gzip', usecols = [0], skiprows = 0, nrows = 0)\n",
    "\n",
    "for i in range(0, for_loop[0]):\n",
    "    df_part = pd.read_csv(file, sep = ';', usecols = [0], \n",
    "                      skiprows = 1 + i * for_loop[1], nrows = for_loop[1], names = ['uid'])\n",
    "    unique_uid = pd.concat([unique_uid, df_part], ignore_index=True)\n",
    "    unique_uid.drop_duplicates(inplace = True)"
   ]
  },
  {
   "cell_type": "code",
   "execution_count": 5,
   "metadata": {
    "collapsed": false
   },
   "outputs": [
    {
     "data": {
      "text/html": [
       "<div>\n",
       "<table border=\"1\" class=\"dataframe\">\n",
       "  <thead>\n",
       "    <tr style=\"text-align: right;\">\n",
       "      <th></th>\n",
       "      <th>user_id</th>\n",
       "      <th>uid</th>\n",
       "    </tr>\n",
       "  </thead>\n",
       "  <tbody>\n",
       "    <tr>\n",
       "      <th>0</th>\n",
       "      <td>0</td>\n",
       "      <td>c10463f4677393cba48cbc835d89edf6</td>\n",
       "    </tr>\n",
       "    <tr>\n",
       "      <th>1</th>\n",
       "      <td>1</td>\n",
       "      <td>cfb9547f099ff6a6ac802423ba6ea7f6</td>\n",
       "    </tr>\n",
       "    <tr>\n",
       "      <th>2</th>\n",
       "      <td>2</td>\n",
       "      <td>2f80fdf03f7db2ba13ef66f02ecc5c4f</td>\n",
       "    </tr>\n",
       "    <tr>\n",
       "      <th>3</th>\n",
       "      <td>3</td>\n",
       "      <td>5e703287f3fee82504da8912605864b5</td>\n",
       "    </tr>\n",
       "    <tr>\n",
       "      <th>4</th>\n",
       "      <td>4</td>\n",
       "      <td>7fdd02ba686aab3864e305b33a190215</td>\n",
       "    </tr>\n",
       "  </tbody>\n",
       "</table>\n",
       "</div>"
      ],
      "text/plain": [
       "   user_id                               uid\n",
       "0        0  c10463f4677393cba48cbc835d89edf6\n",
       "1        1  cfb9547f099ff6a6ac802423ba6ea7f6\n",
       "2        2  2f80fdf03f7db2ba13ef66f02ecc5c4f\n",
       "3        3  5e703287f3fee82504da8912605864b5\n",
       "4        4  7fdd02ba686aab3864e305b33a190215"
      ]
     },
     "execution_count": 5,
     "metadata": {},
     "output_type": "execute_result"
    }
   ],
   "source": [
    "unique_uid.head()"
   ]
  },
  {
   "cell_type": "code",
   "execution_count": null,
   "metadata": {
    "collapsed": false,
    "scrolled": true
   },
   "outputs": [],
   "source": [
    "unique_uid.to_csv('unique_uid.csv')"
   ]
  },
  {
   "cell_type": "code",
   "execution_count": 4,
   "metadata": {
    "collapsed": false
   },
   "outputs": [],
   "source": [
    "unique_uid = pd.read_csv('unique_uid.csv')\n",
    "unique_uid.columns = ['user_id', 'uid']\n",
    "\n",
    "action = {'f':0, 'c':1}"
   ]
  },
  {
   "cell_type": "markdown",
   "metadata": {},
   "source": [
    "### Разбиение csv файла на несколько + обработка"
   ]
  },
  {
   "cell_type": "code",
   "execution_count": null,
   "metadata": {
    "collapsed": false
   },
   "outputs": [],
   "source": [
    "for i in tqdm(range(0, for_loop[0])):\n",
    "    df_part = pd.read_csv(file, sep = ';',\n",
    "                      skiprows = 1 + i * for_loop[1], nrows = for_loop[1], names = ['uid', 'action', 'level','event_time'])\n",
    "    \n",
    "    df_part = pd.merge(left = df_part, right = unique_uid, how = 'left', on = 'uid')[['user_id', 'action', 'level', 'event_time']]\n",
    "    df_part.replace(to_replace = {'action': action}, inplace = True)\n",
    "    \n",
    "    df_part['event_time'] = df_part['event_time'] / 1000\n",
    "    df_part['event_time'] = df_part['event_time'].astype('int')\n",
    "\n",
    "    df_part.to_csv('clear_df_'+str(i)+'.csv')"
   ]
  },
  {
   "cell_type": "markdown",
   "metadata": {
    "collapsed": false
   },
   "source": [
    "### Объединение файлов в один"
   ]
  },
  {
   "cell_type": "code",
   "execution_count": null,
   "metadata": {
    "collapsed": false
   },
   "outputs": [
    {
     "name": "stderr",
     "output_type": "stream",
     "text": [
      "100%|███████████████████████████████████████████████████████████████████████████████████| 9/9 [30:33<00:00, 347.11s/it]\n"
     ]
    }
   ],
   "source": [
    "df = pd.read_csv('clear_df_0.csv', usecols = [1,2,3,4])\n",
    "for i in tqdm(range(1, for_loop[0])):\n",
    "    df_part = pd.read_csv('clear_df_'+str(i)+'.csv', usecols = [1,2,3,4])\n",
    "    df = pd.concat([df, df_part], ignore_index=True)\n",
    "df.to_csv('final_df.csv', index = False)"
   ]
  }
 ],
 "metadata": {
  "anaconda-cloud": {},
  "kernelspec": {
   "display_name": "Python [conda root]",
   "language": "python",
   "name": "conda-root-py"
  },
  "language_info": {
   "codemirror_mode": {
    "name": "ipython",
    "version": 3
   },
   "file_extension": ".py",
   "mimetype": "text/x-python",
   "name": "python",
   "nbconvert_exporter": "python",
   "pygments_lexer": "ipython3",
   "version": "3.5.2"
  }
 },
 "nbformat": 4,
 "nbformat_minor": 1
}
